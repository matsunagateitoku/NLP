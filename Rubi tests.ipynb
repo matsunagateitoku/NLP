{
 "cells": [
  {
   "cell_type": "code",
   "execution_count": 7,
   "metadata": {},
   "outputs": [
    {
     "data": {
      "text/html": [
       "<br>\n",
       "これは<ruby>\n",
       "<rb>日</rb><rt>に</rt> <rb>本</rb><rt>ほん</rt> <rb>語</rb><rt>ご</rt></ruby>です。\n"
      ],
      "text/plain": [
       "<IPython.core.display.HTML object>"
      ]
     },
     "metadata": {},
     "output_type": "display_data"
    }
   ],
   "source": [
    "%%html\n",
    "<br>\n",
    "これは<ruby>\n",
    "<rb>日</rb><rt>に</rt> <rb>本</rb><rt>ほん</rt> <rb>語</rb><rt>ご</rt></ruby>です。"
   ]
  },
  {
   "cell_type": "code",
   "execution_count": 8,
   "metadata": {},
   "outputs": [
    {
     "data": {
      "text/html": [
       "<br>\n",
       "<ruby><rb>新京</rb><rt>xīnjīng </rt>\n",
       "\n",
       "<ruby>\n"
      ],
      "text/plain": [
       "<IPython.core.display.HTML object>"
      ]
     },
     "metadata": {},
     "output_type": "display_data"
    }
   ],
   "source": [
    "%%html\n",
    "<br>\n",
    "<ruby><rb>新京</rb><rt>xīnjīng </rt>\n",
    "\n",
    "<ruby>"
   ]
  },
  {
   "cell_type": "code",
   "execution_count": 9,
   "metadata": {},
   "outputs": [
    {
     "data": {
      "text/html": [
       "<br>\n",
       "<ruby><rb>護<rb>れ<rt>まも<rt></rt><rtc>プロテゴ</rtc></ruby>！\n"
      ],
      "text/plain": [
       "<IPython.core.display.HTML object>"
      ]
     },
     "metadata": {},
     "output_type": "display_data"
    }
   ],
   "source": [
    "%%html\n",
    "<br>\n",
    "<ruby><rb>護<rb>れ<rt>まも<rt></rt><rtc>プロテゴ</rtc></ruby>！"
   ]
  },
  {
   "cell_type": "code",
   "execution_count": 10,
   "metadata": {},
   "outputs": [
    {
     "data": {
      "text/html": [
       "   \n",
       "<head>\n",
       "   <style>\n",
       "   ruby {ruby-position:under;}\n",
       "   </style>\n",
       "</head>\n",
       "\n",
       " <body>\n",
       "   <ruby>\n",
       "     <rb>超電磁砲</rb>\n",
       "     <rp>（</rp><rt>レールガン</rt><rp>）</rp>\n",
       "   </ruby>\n"
      ],
      "text/plain": [
       "<IPython.core.display.HTML object>"
      ]
     },
     "metadata": {},
     "output_type": "display_data"
    }
   ],
   "source": [
    " %%html\n",
    "    \n",
    "<head>\n",
    "    <style>\n",
    "    ruby {ruby-position:under;}\n",
    "    </style>\n",
    "</head>\n",
    "\n",
    "  <body>\n",
    "    <ruby>\n",
    "      <rb>超電磁砲</rb>\n",
    "      <rp>（</rp><rt>レールガン</rt><rp>）</rp>\n",
    "    </ruby>"
   ]
  },
  {
   "cell_type": "code",
   "execution_count": 11,
   "metadata": {},
   "outputs": [
    {
     "data": {
      "text/html": [
       "   \n",
       " <head>\n",
       "   <style>\n",
       "     rb {\n",
       "       line-height: Normal;\n",
       "       font-size: .4em;\n",
       "       text-align: center;\n",
       "     }\n",
       "     rt{\n",
       "       font-size: 16px;\n",
       "     }\n",
       "   </style>\n",
       " </head>\n",
       " <body>\n",
       "\n",
       " <ruby>\n",
       " <rb>Zhōngwén</rb> <rt>中文</rt>\n",
       " </ruby>\n"
      ],
      "text/plain": [
       "<IPython.core.display.HTML object>"
      ]
     },
     "metadata": {},
     "output_type": "display_data"
    }
   ],
   "source": [
    " %%html\n",
    "    \n",
    "  <head>\n",
    "    <style>\n",
    "      rb {\n",
    "        line-height: Normal;\n",
    "        font-size: .4em;\n",
    "        text-align: center;\n",
    "      }\n",
    "      rt{\n",
    "        font-size: 16px;\n",
    "      }\n",
    "    </style>\n",
    "  </head>\n",
    "  <body>\n",
    "\n",
    "  <ruby>\n",
    "  <rb>Zhōngwén</rb> <rt>中文</rt>\n",
    "  </ruby>"
   ]
  },
  {
   "cell_type": "code",
   "execution_count": 12,
   "metadata": {},
   "outputs": [
    {
     "ename": "SyntaxError",
     "evalue": "invalid syntax (599982596.py, line 1)",
     "output_type": "error",
     "traceback": [
      "\u001b[0;36m  Input \u001b[0;32mIn [12]\u001b[0;36m\u001b[0m\n\u001b[0;31m    新京         pinyin: xīnjīng          PROPN nsubj\u001b[0m\n\u001b[0m               ^\u001b[0m\n\u001b[0;31mSyntaxError\u001b[0m\u001b[0;31m:\u001b[0m invalid syntax\n"
     ]
    }
   ],
   "source": [
    "新京         pinyin: xīnjīng          PROPN nsubj\n",
    "报讯         pinyin: bàoxùn          VERB ROOT\n",
    "（         pinyin: （          PUNCT punct\n",
    "记者         pinyin: jìzhě          NOUN dep\n",
    "张畅         pinyin: zhāngchàng          PROPN dep\n",
    "）         pinyin: ）          PUNCT punct\n",
    "11月         pinyin: 11yuè          NOUN compound:nn\n",
    "29日         pinyin: 29rì          NOUN nmod:tmod\n",
    "，         pinyin: ，          PUNCT punct\n",
    "故宫         pinyin: gùgōng          PROPN nsubj\n",
    "发布         pinyin: fābù          VERB ROOT\n",
    "消息         pinyin: xiāoxī          NOUN nsubj\n",
    "称         pinyin: chēng          VERB conj\n",
    "，         pinyin: ，          PUNCT punct"
   ]
  }
 ],
 "metadata": {
  "kernelspec": {
   "display_name": "Python 3.9.2 64-bit",
   "language": "python",
   "name": "python3"
  },
  "language_info": {
   "codemirror_mode": {
    "name": "ipython",
    "version": 3
   },
   "file_extension": ".py",
   "mimetype": "text/x-python",
   "name": "python",
   "nbconvert_exporter": "python",
   "pygments_lexer": "ipython3",
   "version": "3.9.2"
  },
  "vscode": {
   "interpreter": {
    "hash": "916dbcbb3f70747c44a77c7bcd40155683ae19c65e1c03b4aa3499c5328201f1"
   }
  }
 },
 "nbformat": 4,
 "nbformat_minor": 2
}
