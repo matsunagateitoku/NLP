{
 "cells": [
  {
   "cell_type": "code",
   "execution_count": 1,
   "metadata": {},
   "outputs": [
    {
     "name": "stdout",
     "output_type": "stream",
     "text": [
      "Collecting zh-core-web-sm==3.2.0\n",
      "  Downloading https://github.com/explosion/spacy-models/releases/download/zh_core_web_sm-3.2.0/zh_core_web_sm-3.2.0-py3-none-any.whl (49.5 MB)\n",
      "Requirement already satisfied: spacy-pkuseg<0.1.0,>=0.0.27 in c:\\users\\lines\\anaconda3\\lib\\site-packages (from zh-core-web-sm==3.2.0) (0.0.28)\n",
      "Requirement already satisfied: spacy<3.3.0,>=3.2.0 in c:\\users\\lines\\anaconda3\\lib\\site-packages (from zh-core-web-sm==3.2.0) (3.2.0)\n",
      "Requirement already satisfied: thinc<8.1.0,>=8.0.12 in c:\\users\\lines\\anaconda3\\lib\\site-packages (from spacy<3.3.0,>=3.2.0->zh-core-web-sm==3.2.0) (8.0.13)\n",
      "Requirement already satisfied: typer<0.5.0,>=0.3.0 in c:\\users\\lines\\anaconda3\\lib\\site-packages (from spacy<3.3.0,>=3.2.0->zh-core-web-sm==3.2.0) (0.4.0)\n",
      "Requirement already satisfied: pydantic!=1.8,!=1.8.1,<1.9.0,>=1.7.4 in c:\\users\\lines\\anaconda3\\lib\\site-packages (from spacy<3.3.0,>=3.2.0->zh-core-web-sm==3.2.0) (1.8.2)\n",
      "Requirement already satisfied: preshed<3.1.0,>=3.0.2 in c:\\users\\lines\\anaconda3\\lib\\site-packages (from spacy<3.3.0,>=3.2.0->zh-core-web-sm==3.2.0) (3.0.6)\n",
      "Requirement already satisfied: jinja2 in c:\\users\\lines\\anaconda3\\lib\\site-packages (from spacy<3.3.0,>=3.2.0->zh-core-web-sm==3.2.0) (2.10)\n",
      "Requirement already satisfied: langcodes<4.0.0,>=3.2.0 in c:\\users\\lines\\anaconda3\\lib\\site-packages (from spacy<3.3.0,>=3.2.0->zh-core-web-sm==3.2.0) (3.3.0)\n",
      "Requirement already satisfied: catalogue<2.1.0,>=2.0.6 in c:\\users\\lines\\anaconda3\\lib\\site-packages (from spacy<3.3.0,>=3.2.0->zh-core-web-sm==3.2.0) (2.0.6)\n",
      "Requirement already satisfied: wasabi<1.1.0,>=0.8.1 in c:\\users\\lines\\anaconda3\\lib\\site-packages (from spacy<3.3.0,>=3.2.0->zh-core-web-sm==3.2.0) (0.8.2)\n",
      "Requirement already satisfied: numpy>=1.15.0 in c:\\users\\lines\\anaconda3\\lib\\site-packages (from spacy<3.3.0,>=3.2.0->zh-core-web-sm==3.2.0) (1.18.5)\n",
      "Requirement already satisfied: requests<3.0.0,>=2.13.0 in c:\\users\\lines\\anaconda3\\lib\\site-packages (from spacy<3.3.0,>=3.2.0->zh-core-web-sm==3.2.0) (2.25.0)\n",
      "Requirement already satisfied: spacy-legacy<3.1.0,>=3.0.8 in c:\\users\\lines\\anaconda3\\lib\\site-packages (from spacy<3.3.0,>=3.2.0->zh-core-web-sm==3.2.0) (3.0.8)\n",
      "Requirement already satisfied: cymem<2.1.0,>=2.0.2 in c:\\users\\lines\\anaconda3\\lib\\site-packages (from spacy<3.3.0,>=3.2.0->zh-core-web-sm==3.2.0) (2.0.6)\n",
      "Requirement already satisfied: pathy>=0.3.5 in c:\\users\\lines\\anaconda3\\lib\\site-packages (from spacy<3.3.0,>=3.2.0->zh-core-web-sm==3.2.0) (0.6.1)\n",
      "Requirement already satisfied: tqdm<5.0.0,>=4.38.0 in c:\\users\\lines\\anaconda3\\lib\\site-packages (from spacy<3.3.0,>=3.2.0->zh-core-web-sm==3.2.0) (4.62.3)\n",
      "Requirement already satisfied: setuptools in c:\\users\\lines\\anaconda3\\lib\\site-packages (from spacy<3.3.0,>=3.2.0->zh-core-web-sm==3.2.0) (50.3.2)\n",
      "Requirement already satisfied: packaging>=20.0 in c:\\users\\lines\\anaconda3\\lib\\site-packages (from spacy<3.3.0,>=3.2.0->zh-core-web-sm==3.2.0) (21.3)\n",
      "Requirement already satisfied: typing-extensions<4.0.0.0,>=3.7.4 in c:\\users\\lines\\anaconda3\\lib\\site-packages (from spacy<3.3.0,>=3.2.0->zh-core-web-sm==3.2.0) (3.10.0.2)\n",
      "Requirement already satisfied: murmurhash<1.1.0,>=0.28.0 in c:\\users\\lines\\anaconda3\\lib\\site-packages (from spacy<3.3.0,>=3.2.0->zh-core-web-sm==3.2.0) (1.0.6)\n",
      "Requirement already satisfied: srsly<3.0.0,>=2.4.1 in c:\\users\\lines\\anaconda3\\lib\\site-packages (from spacy<3.3.0,>=3.2.0->zh-core-web-sm==3.2.0) (2.4.2)\n",
      "Requirement already satisfied: blis<0.8.0,>=0.4.0 in c:\\users\\lines\\anaconda3\\lib\\site-packages (from spacy<3.3.0,>=3.2.0->zh-core-web-sm==3.2.0) (0.7.5)\n",
      "Requirement already satisfied: spacy-loggers<2.0.0,>=1.0.0 in c:\\users\\lines\\anaconda3\\lib\\site-packages (from spacy<3.3.0,>=3.2.0->zh-core-web-sm==3.2.0) (1.0.1)\n",
      "Requirement already satisfied: numpy>=1.15.0 in c:\\users\\lines\\anaconda3\\lib\\site-packages (from spacy<3.3.0,>=3.2.0->zh-core-web-sm==3.2.0) (1.18.5)\n",
      "Requirement already satisfied: typing-extensions<4.0.0.0,>=3.7.4 in c:\\users\\lines\\anaconda3\\lib\\site-packages (from spacy<3.3.0,>=3.2.0->zh-core-web-sm==3.2.0) (3.10.0.2)\n",
      "Requirement already satisfied: zipp>=0.5 in c:\\users\\lines\\anaconda3\\lib\\site-packages (from catalogue<2.1.0,>=2.0.6->spacy<3.3.0,>=3.2.0->zh-core-web-sm==3.2.0) (3.4.0)\n",
      "Requirement already satisfied: MarkupSafe>=0.23 in c:\\users\\lines\\anaconda3\\lib\\site-packages (from jinja2->spacy<3.3.0,>=3.2.0->zh-core-web-sm==3.2.0) (1.0)\n",
      "Requirement already satisfied: pyparsing!=3.0.5,>=2.0.2 in c:\\users\\lines\\anaconda3\\lib\\site-packages (from packaging>=20.0->spacy<3.3.0,>=3.2.0->zh-core-web-sm==3.2.0) (2.2.0)\n",
      "Requirement already satisfied: typer<0.5.0,>=0.3.0 in c:\\users\\lines\\anaconda3\\lib\\site-packages (from spacy<3.3.0,>=3.2.0->zh-core-web-sm==3.2.0) (0.4.0)\n",
      "Requirement already satisfied: smart-open<6.0.0,>=5.0.0 in c:\\users\\lines\\anaconda3\\lib\\site-packages (from pathy>=0.3.5->spacy<3.3.0,>=3.2.0->zh-core-web-sm==3.2.0) (5.2.1)\n",
      "Requirement already satisfied: dataclasses<1.0,>=0.6 in c:\\users\\lines\\anaconda3\\lib\\site-packages (from pathy>=0.3.5->spacy<3.3.0,>=3.2.0->zh-core-web-sm==3.2.0) (0.8)\n",
      "Requirement already satisfied: murmurhash<1.1.0,>=0.28.0 in c:\\users\\lines\\anaconda3\\lib\\site-packages (from spacy<3.3.0,>=3.2.0->zh-core-web-sm==3.2.0) (1.0.6)\n",
      "Requirement already satisfied: cymem<2.1.0,>=2.0.2 in c:\\users\\lines\\anaconda3\\lib\\site-packages (from spacy<3.3.0,>=3.2.0->zh-core-web-sm==3.2.0) (2.0.6)\n",
      "Requirement already satisfied: typing-extensions<4.0.0.0,>=3.7.4 in c:\\users\\lines\\anaconda3\\lib\\site-packages (from spacy<3.3.0,>=3.2.0->zh-core-web-sm==3.2.0) (3.10.0.2)\n",
      "Requirement already satisfied: dataclasses<1.0,>=0.6 in c:\\users\\lines\\anaconda3\\lib\\site-packages (from pathy>=0.3.5->spacy<3.3.0,>=3.2.0->zh-core-web-sm==3.2.0) (0.8)\n",
      "Requirement already satisfied: certifi>=2017.4.17 in c:\\users\\lines\\anaconda3\\lib\\site-packages (from requests<3.0.0,>=2.13.0->spacy<3.3.0,>=3.2.0->zh-core-web-sm==3.2.0) (2018.4.16)\n",
      "Requirement already satisfied: urllib3<1.27,>=1.21.1 in c:\\users\\lines\\anaconda3\\lib\\site-packages (from requests<3.0.0,>=2.13.0->spacy<3.3.0,>=3.2.0->zh-core-web-sm==3.2.0) (1.22)\n",
      "Requirement already satisfied: chardet<4,>=3.0.2 in c:\\users\\lines\\anaconda3\\lib\\site-packages (from requests<3.0.0,>=2.13.0->spacy<3.3.0,>=3.2.0->zh-core-web-sm==3.2.0) (3.0.4)\n",
      "Requirement already satisfied: idna<3,>=2.5 in c:\\users\\lines\\anaconda3\\lib\\site-packages (from requests<3.0.0,>=2.13.0->spacy<3.3.0,>=3.2.0->zh-core-web-sm==3.2.0) (2.6)\n",
      "Requirement already satisfied: wasabi<1.1.0,>=0.8.1 in c:\\users\\lines\\anaconda3\\lib\\site-packages (from spacy<3.3.0,>=3.2.0->zh-core-web-sm==3.2.0) (0.8.2)\n",
      "Requirement already satisfied: cython>=0.25 in c:\\users\\lines\\anaconda3\\lib\\site-packages (from spacy-pkuseg<0.1.0,>=0.0.27->zh-core-web-sm==3.2.0) (0.28.2)\n",
      "Requirement already satisfied: srsly<3.0.0,>=2.4.1 in c:\\users\\lines\\anaconda3\\lib\\site-packages (from spacy<3.3.0,>=3.2.0->zh-core-web-sm==3.2.0) (2.4.2)\n",
      "Requirement already satisfied: numpy>=1.15.0 in c:\\users\\lines\\anaconda3\\lib\\site-packages (from spacy<3.3.0,>=3.2.0->zh-core-web-sm==3.2.0) (1.18.5)\n",
      "Requirement already satisfied: catalogue<2.1.0,>=2.0.6 in c:\\users\\lines\\anaconda3\\lib\\site-packages (from spacy<3.3.0,>=3.2.0->zh-core-web-sm==3.2.0) (2.0.6)\n",
      "Requirement already satisfied: setuptools in c:\\users\\lines\\anaconda3\\lib\\site-packages (from spacy<3.3.0,>=3.2.0->zh-core-web-sm==3.2.0) (50.3.2)\n",
      "Requirement already satisfied: pydantic!=1.8,!=1.8.1,<1.9.0,>=1.7.4 in c:\\users\\lines\\anaconda3\\lib\\site-packages (from spacy<3.3.0,>=3.2.0->zh-core-web-sm==3.2.0) (1.8.2)\n",
      "Requirement already satisfied: typing-extensions<4.0.0.0,>=3.7.4 in c:\\users\\lines\\anaconda3\\lib\\site-packages (from spacy<3.3.0,>=3.2.0->zh-core-web-sm==3.2.0) (3.10.0.2)\n",
      "Requirement already satisfied: murmurhash<1.1.0,>=0.28.0 in c:\\users\\lines\\anaconda3\\lib\\site-packages (from spacy<3.3.0,>=3.2.0->zh-core-web-sm==3.2.0) (1.0.6)\n",
      "Requirement already satisfied: wasabi<1.1.0,>=0.8.1 in c:\\users\\lines\\anaconda3\\lib\\site-packages (from spacy<3.3.0,>=3.2.0->zh-core-web-sm==3.2.0) (0.8.2)\n",
      "Requirement already satisfied: numpy>=1.15.0 in c:\\users\\lines\\anaconda3\\lib\\site-packages (from spacy<3.3.0,>=3.2.0->zh-core-web-sm==3.2.0) (1.18.5)\n",
      "Requirement already satisfied: preshed<3.1.0,>=3.0.2 in c:\\users\\lines\\anaconda3\\lib\\site-packages (from spacy<3.3.0,>=3.2.0->zh-core-web-sm==3.2.0) (3.0.6)\n",
      "Requirement already satisfied: catalogue<2.1.0,>=2.0.6 in c:\\users\\lines\\anaconda3\\lib\\site-packages (from spacy<3.3.0,>=3.2.0->zh-core-web-sm==3.2.0) (2.0.6)\n",
      "Requirement already satisfied: dataclasses<1.0,>=0.6 in c:\\users\\lines\\anaconda3\\lib\\site-packages (from pathy>=0.3.5->spacy<3.3.0,>=3.2.0->zh-core-web-sm==3.2.0) (0.8)\n",
      "Requirement already satisfied: contextvars<3,>=2.4 in c:\\users\\lines\\anaconda3\\lib\\site-packages (from thinc<8.1.0,>=8.0.12->spacy<3.3.0,>=3.2.0->zh-core-web-sm==3.2.0) (2.4)\n",
      "Requirement already satisfied: cymem<2.1.0,>=2.0.2 in c:\\users\\lines\\anaconda3\\lib\\site-packages (from spacy<3.3.0,>=3.2.0->zh-core-web-sm==3.2.0) (2.0.6)\n",
      "Requirement already satisfied: blis<0.8.0,>=0.4.0 in c:\\users\\lines\\anaconda3\\lib\\site-packages (from spacy<3.3.0,>=3.2.0->zh-core-web-sm==3.2.0) (0.7.5)\n",
      "Requirement already satisfied: srsly<3.0.0,>=2.4.1 in c:\\users\\lines\\anaconda3\\lib\\site-packages (from spacy<3.3.0,>=3.2.0->zh-core-web-sm==3.2.0) (2.4.2)\n",
      "Requirement already satisfied: immutables>=0.9 in c:\\users\\lines\\anaconda3\\lib\\site-packages (from contextvars<3,>=2.4->thinc<8.1.0,>=8.0.12->spacy<3.3.0,>=3.2.0->zh-core-web-sm==3.2.0) (0.16)\n",
      "Requirement already satisfied: typing-extensions<4.0.0.0,>=3.7.4 in c:\\users\\lines\\anaconda3\\lib\\site-packages (from spacy<3.3.0,>=3.2.0->zh-core-web-sm==3.2.0) (3.10.0.2)\n",
      "Requirement already satisfied: colorama in c:\\users\\lines\\anaconda3\\lib\\site-packages (from tqdm<5.0.0,>=4.38.0->spacy<3.3.0,>=3.2.0->zh-core-web-sm==3.2.0) (0.3.9)\n",
      "Requirement already satisfied: click<9.0.0,>=7.1.1 in c:\\users\\lines\\anaconda3\\lib\\site-packages (from typer<0.5.0,>=0.3.0->spacy<3.3.0,>=3.2.0->zh-core-web-sm==3.2.0) (8.0.3)\n",
      "Requirement already satisfied: importlib-metadata in c:\\users\\lines\\anaconda3\\lib\\site-packages (from click<9.0.0,>=7.1.1->typer<0.5.0,>=0.3.0->spacy<3.3.0,>=3.2.0->zh-core-web-sm==3.2.0) (3.1.1)\n",
      "Requirement already satisfied: colorama in c:\\users\\lines\\anaconda3\\lib\\site-packages (from tqdm<5.0.0,>=4.38.0->spacy<3.3.0,>=3.2.0->zh-core-web-sm==3.2.0) (0.3.9)\n",
      "Requirement already satisfied: zipp>=0.5 in c:\\users\\lines\\anaconda3\\lib\\site-packages (from catalogue<2.1.0,>=2.0.6->spacy<3.3.0,>=3.2.0->zh-core-web-sm==3.2.0) (3.4.0)\n",
      "[+] Download and installation successful\n",
      "You can now load the package via spacy.load('zh_core_web_sm')\n"
     ]
    },
    {
     "name": "stderr",
     "output_type": "stream",
     "text": [
      "WARNING: You are using pip version 20.3.1; however, version 21.3.1 is available.\n",
      "You should consider upgrading via the 'C:\\Users\\Lines\\Anaconda3\\python.exe -m pip install --upgrade pip' command.\n",
      "C:\\Users\\Lines\\Anaconda3\\lib\\site-packages\\h5py\\__init__.py:36: FutureWarning: Conversion of the second argument of issubdtype from `float` to `np.floating` is deprecated. In future, it will be treated as `np.float64 == np.dtype(float).type`.\n",
      "  from ._conv import register_converters as _register_converters\n",
      "C:\\Users\\Lines\\Anaconda3\\lib\\site-packages\\h5py\\__init__.py:36: FutureWarning: Conversion of the second argument of issubdtype from `float` to `np.floating` is deprecated. In future, it will be treated as `np.float64 == np.dtype(float).type`.\n",
      "  from ._conv import register_converters as _register_converters\n"
     ]
    },
    {
     "name": "stdout",
     "output_type": "stream",
     "text": [
      "Requirement already satisfied: deep_translator in c:\\users\\lines\\anaconda3\\lib\\site-packages (1.5.0)\n",
      "Requirement already satisfied: click in c:\\users\\lines\\anaconda3\\lib\\site-packages (from deep_translator) (8.0.3)\n",
      "Requirement already satisfied: beautifulsoup4 in c:\\users\\lines\\anaconda3\\lib\\site-packages (from deep_translator) (4.6.0)\n",
      "Requirement already satisfied: requests in c:\\users\\lines\\anaconda3\\lib\\site-packages (from deep_translator) (2.25.0)\n",
      "Requirement already satisfied: importlib-metadata in c:\\users\\lines\\anaconda3\\lib\\site-packages (from click->deep_translator) (3.1.1)\n",
      "Requirement already satisfied: colorama in c:\\users\\lines\\anaconda3\\lib\\site-packages (from click->deep_translator) (0.3.9)\n",
      "Requirement already satisfied: zipp>=0.5 in c:\\users\\lines\\anaconda3\\lib\\site-packages (from importlib-metadata->click->deep_translator) (3.4.0)\n",
      "Requirement already satisfied: certifi>=2017.4.17 in c:\\users\\lines\\anaconda3\\lib\\site-packages (from requests->deep_translator) (2018.4.16)\n",
      "Requirement already satisfied: urllib3<1.27,>=1.21.1 in c:\\users\\lines\\anaconda3\\lib\\site-packages (from requests->deep_translator) (1.22)\n",
      "Requirement already satisfied: chardet<4,>=3.0.2 in c:\\users\\lines\\anaconda3\\lib\\site-packages (from requests->deep_translator) (3.0.4)\n",
      "Requirement already satisfied: idna<3,>=2.5 in c:\\users\\lines\\anaconda3\\lib\\site-packages (from requests->deep_translator) (2.6)\n"
     ]
    },
    {
     "name": "stderr",
     "output_type": "stream",
     "text": [
      "WARNING: You are using pip version 20.3.1; however, version 21.3.1 is available.\n",
      "You should consider upgrading via the 'c:\\users\\lines\\anaconda3\\python.exe -m pip install --upgrade pip' command.\n"
     ]
    }
   ],
   "source": [
    "!python -m spacy download zh_core_web_sm\n",
    "import spacy\n",
    "from spacy.lang.zh.examples import sentences \n",
    "from spacy import displacy\n",
    "!pip install -U deep_translator\n",
    "from deep_translator import GoogleTranslator\n",
    "import pinyin"
   ]
  },
  {
   "cell_type": "code",
   "execution_count": 2,
   "metadata": {},
   "outputs": [
    {
     "data": {
      "text/plain": [
       "spacy.tokens.doc.Doc"
      ]
     },
     "execution_count": 2,
     "metadata": {},
     "output_type": "execute_result"
    }
   ],
   "source": [
    "nlp = spacy.load(\"zh_core_web_sm\")\n",
    "doc = nlp(sentences[1])\n",
    "type(doc)"
   ]
  },
  {
   "cell_type": "code",
   "execution_count": 3,
   "metadata": {},
   "outputs": [
    {
     "name": "stdout",
     "output_type": "stream",
     "text": [
      "新京报讯（记者 张畅）11月29日，故宫发布消息称，为进一步贯彻落实《中华人民共和国未成年人保护法》，故宫博物院决定在原有6岁以下或身高1.2米以下儿童，以及每周二统一预约的中小学生免费的基础上，试行所有开放日对未成年人免费开放。\n",
      "新京 PROPN nsubj\n",
      "报讯 VERB ROOT\n",
      "（ PUNCT punct\n",
      "记者 NOUN dep\n",
      "张畅 PROPN dep\n",
      "） PUNCT punct\n",
      "11月 NOUN compound:nn\n",
      "29日 NOUN nmod:tmod\n",
      "， PUNCT punct\n",
      "故宫 PROPN nsubj\n",
      "发布 VERB ROOT\n",
      "消息 NOUN nsubj\n",
      "称 VERB conj\n",
      "， PUNCT punct\n",
      "为 ADP case\n",
      "进一步 ADV advmod\n",
      "贯彻 VERB ccomp\n",
      "落实 VERB compound:vc\n",
      "《 PUNCT punct\n",
      "中华 PROPN compound:nn\n",
      "人民 NOUN compound:nn\n",
      "共和国 NOUN nmod:assmod\n",
      "未成年人 NOUN compound:nn\n",
      "保护法 NOUN dobj\n",
      "》 PUNCT punct\n",
      "， PUNCT punct\n",
      "故宫 PROPN compound:nn\n",
      "博物院 NOUN nsubj\n",
      "决定 VERB conj\n",
      "在 ADP case\n",
      "原有 ADJ amod\n",
      "6 NUM dep\n",
      "岁 NUM mark:clf\n",
      "以下 PART case\n",
      "或 CCONJ cc\n",
      "身高 NOUN compound:nn\n",
      "1.2 NUM nummod\n",
      "米 NUM mark:clf\n",
      "以下 PART case\n",
      "儿童 NOUN dep\n",
      "， PUNCT punct\n",
      "以及 CCONJ cc\n",
      "每 DET det\n",
      "周二 NOUN compound:nn\n",
      "统一 ADV advmod\n",
      "预约 VERB acl\n",
      "的 PART mark\n",
      "中小 ADJ amod\n",
      "学生 NOUN dep\n",
      "免费 ADJ amod\n",
      "的 PART case\n",
      "基础 NOUN nmod:prep\n",
      "上 PART case\n",
      "， PUNCT punct\n",
      "试行 VERB ccomp\n",
      "所有 DET det\n",
      "开放日 NOUN dobj\n",
      "对 ADP case\n",
      "未成年人 NOUN nmod:prep\n",
      "免费 ADV advmod\n",
      "开放 VERB ccomp\n",
      "。 PUNCT punct\n"
     ]
    }
   ],
   "source": [
    "nlp = spacy.load(\"zh_core_web_sm\")\n",
    "#doc = nlp(sentences[1])\n",
    "doc = nlp(\"新京报讯（记者 张畅）11月29日，故宫发布消息称，为进一步贯彻落实《中华人民共和国未成年人保护法》，故宫博物院决定在原有6岁以下或身高1.2米以下儿童，以及每周二统一预约的中小学生免费的基础上，试行所有开放日对未成年人免费开放。\")\n",
    "print(doc.text)\n",
    "for token in doc:\n",
    "    print(token, token.pos_, token.dep_)"
   ]
  },
  {
   "cell_type": "code",
   "execution_count": 4,
   "metadata": {},
   "outputs": [
    {
     "data": {
      "text/plain": [
       "报讯"
      ]
     },
     "execution_count": 4,
     "metadata": {},
     "output_type": "execute_result"
    }
   ],
   "source": [
    "doc[1]"
   ]
  },
  {
   "cell_type": "code",
   "execution_count": 5,
   "metadata": {},
   "outputs": [
    {
     "name": "stdout",
     "output_type": "stream",
     "text": [
      "新京 0 2 GPE\n",
      "张畅 8 10 PERSON\n",
      "11月29日 11 17 DATE\n",
      "故宫 18 20 ORG\n",
      "中华人民共和国未成年人保护法 35 49 LAW\n",
      "故宫博物院 51 56 ORG\n",
      "6岁以下 61 65 DATE\n",
      "1.2米 68 72 QUANTITY\n",
      "周二 80 82 DATE\n"
     ]
    }
   ],
   "source": [
    "for ent in doc.ents:\n",
    "    print(ent.text, ent.start_char, ent.end_char, ent.label_)"
   ]
  },
  {
   "cell_type": "code",
   "execution_count": 6,
   "metadata": {},
   "outputs": [
    {
     "data": {
      "text/html": [
       "<span class=\"tex2jax_ignore\"><div class=\"entities\" style=\"line-height: 2.5; direction: ltr\">\n",
       "<mark class=\"entity\" style=\"background: #feca74; padding: 0.45em 0.6em; margin: 0 0.25em; line-height: 1; border-radius: 0.35em;\">\n",
       "    新京\n",
       "    <span style=\"font-size: 0.8em; font-weight: bold; line-height: 1; border-radius: 0.35em; vertical-align: middle; margin-left: 0.5rem\">GPE</span>\n",
       "</mark>\n",
       "报讯（记者 \n",
       "<mark class=\"entity\" style=\"background: #aa9cfc; padding: 0.45em 0.6em; margin: 0 0.25em; line-height: 1; border-radius: 0.35em;\">\n",
       "    张畅\n",
       "    <span style=\"font-size: 0.8em; font-weight: bold; line-height: 1; border-radius: 0.35em; vertical-align: middle; margin-left: 0.5rem\">PERSON</span>\n",
       "</mark>\n",
       "）\n",
       "<mark class=\"entity\" style=\"background: #bfe1d9; padding: 0.45em 0.6em; margin: 0 0.25em; line-height: 1; border-radius: 0.35em;\">\n",
       "    11月29日\n",
       "    <span style=\"font-size: 0.8em; font-weight: bold; line-height: 1; border-radius: 0.35em; vertical-align: middle; margin-left: 0.5rem\">DATE</span>\n",
       "</mark>\n",
       "，\n",
       "<mark class=\"entity\" style=\"background: #7aecec; padding: 0.45em 0.6em; margin: 0 0.25em; line-height: 1; border-radius: 0.35em;\">\n",
       "    故宫\n",
       "    <span style=\"font-size: 0.8em; font-weight: bold; line-height: 1; border-radius: 0.35em; vertical-align: middle; margin-left: 0.5rem\">ORG</span>\n",
       "</mark>\n",
       "发布消息称，为进一步贯彻落实《\n",
       "<mark class=\"entity\" style=\"background: #ff8197; padding: 0.45em 0.6em; margin: 0 0.25em; line-height: 1; border-radius: 0.35em;\">\n",
       "    中华人民共和国未成年人保护法\n",
       "    <span style=\"font-size: 0.8em; font-weight: bold; line-height: 1; border-radius: 0.35em; vertical-align: middle; margin-left: 0.5rem\">LAW</span>\n",
       "</mark>\n",
       "》，\n",
       "<mark class=\"entity\" style=\"background: #7aecec; padding: 0.45em 0.6em; margin: 0 0.25em; line-height: 1; border-radius: 0.35em;\">\n",
       "    故宫博物院\n",
       "    <span style=\"font-size: 0.8em; font-weight: bold; line-height: 1; border-radius: 0.35em; vertical-align: middle; margin-left: 0.5rem\">ORG</span>\n",
       "</mark>\n",
       "决定在原有\n",
       "<mark class=\"entity\" style=\"background: #bfe1d9; padding: 0.45em 0.6em; margin: 0 0.25em; line-height: 1; border-radius: 0.35em;\">\n",
       "    6岁以下\n",
       "    <span style=\"font-size: 0.8em; font-weight: bold; line-height: 1; border-radius: 0.35em; vertical-align: middle; margin-left: 0.5rem\">DATE</span>\n",
       "</mark>\n",
       "或身高\n",
       "<mark class=\"entity\" style=\"background: #e4e7d2; padding: 0.45em 0.6em; margin: 0 0.25em; line-height: 1; border-radius: 0.35em;\">\n",
       "    1.2米\n",
       "    <span style=\"font-size: 0.8em; font-weight: bold; line-height: 1; border-radius: 0.35em; vertical-align: middle; margin-left: 0.5rem\">QUANTITY</span>\n",
       "</mark>\n",
       "以下儿童，以及每\n",
       "<mark class=\"entity\" style=\"background: #bfe1d9; padding: 0.45em 0.6em; margin: 0 0.25em; line-height: 1; border-radius: 0.35em;\">\n",
       "    周二\n",
       "    <span style=\"font-size: 0.8em; font-weight: bold; line-height: 1; border-radius: 0.35em; vertical-align: middle; margin-left: 0.5rem\">DATE</span>\n",
       "</mark>\n",
       "统一预约的中小学生免费的基础上，试行所有开放日对未成年人免费开放。</div></span>"
      ],
      "text/plain": [
       "<IPython.core.display.HTML object>"
      ]
     },
     "metadata": {},
     "output_type": "display_data"
    }
   ],
   "source": [
    "displacy.render(doc, style=\"ent\", jupyter=True)"
   ]
  },
  {
   "cell_type": "code",
   "execution_count": 7,
   "metadata": {},
   "outputs": [
    {
     "data": {
      "text/plain": [
       "'Beijing News (Reporter Zhang Chang) On November 29, the Forbidden City announced that in order to further implement the \"Law of the People\\'s Republic of China on the Protection of Minors\", the Palace Museum decided that children under the age of 6 or under 1.2 meters in height, and On the basis of free for primary and secondary school students who make a unified reservation every Tuesday, all open days are free for minors.'"
      ]
     },
     "execution_count": 7,
     "metadata": {},
     "output_type": "execute_result"
    }
   ],
   "source": [
    "translated = GoogleTranslator(source='auto', target='en').translate(doc.text) \n",
    "# output -> Weiter so, du bist großartig\n",
    "translated"
   ]
  },
  {
   "cell_type": "code",
   "execution_count": 8,
   "metadata": {},
   "outputs": [
    {
     "name": "stdout",
     "output_type": "stream",
     "text": [
      "新京         pinyin: xīnjīng          PROPN nsubj\n",
      "报讯         pinyin: bàoxùn          VERB ROOT\n",
      "（         pinyin: （          PUNCT punct\n",
      "记者         pinyin: jìzhě          NOUN dep\n",
      "张畅         pinyin: zhāngchàng          PROPN dep\n",
      "）         pinyin: ）          PUNCT punct\n",
      "11月         pinyin: 11yuè          NOUN compound:nn\n",
      "29日         pinyin: 29rì          NOUN nmod:tmod\n",
      "，         pinyin: ，          PUNCT punct\n",
      "故宫         pinyin: gùgōng          PROPN nsubj\n",
      "发布         pinyin: fābù          VERB ROOT\n",
      "消息         pinyin: xiāoxī          NOUN nsubj\n",
      "称         pinyin: chēng          VERB conj\n",
      "，         pinyin: ，          PUNCT punct\n",
      "为         pinyin: wèi          ADP case\n",
      "进一步         pinyin: jìnyībù          ADV advmod\n",
      "贯彻         pinyin: guànchè          VERB ccomp\n",
      "落实         pinyin: luòshí          VERB compound:vc\n",
      "《         pinyin: 《          PUNCT punct\n",
      "中华         pinyin: zhōnghuá          PROPN compound:nn\n",
      "人民         pinyin: rénmín          NOUN compound:nn\n",
      "共和国         pinyin: gònghéguó          NOUN nmod:assmod\n",
      "未成年人         pinyin: wèichéngniánrén          NOUN compound:nn\n",
      "保护法         pinyin: bǎohùfǎ          NOUN dobj\n",
      "》         pinyin: 》          PUNCT punct\n",
      "，         pinyin: ，          PUNCT punct\n",
      "故宫         pinyin: gùgōng          PROPN compound:nn\n",
      "博物院         pinyin: bówùyuàn          NOUN nsubj\n",
      "决定         pinyin: juédìng          VERB conj\n",
      "在         pinyin: zài          ADP case\n",
      "原有         pinyin: yuányǒu          ADJ amod\n",
      "6         pinyin: 6          NUM dep\n",
      "岁         pinyin: sùi          NUM mark:clf\n",
      "以下         pinyin: yǐxià          PART case\n",
      "或         pinyin: huò          CCONJ cc\n",
      "身高         pinyin: shēngāo          NOUN compound:nn\n",
      "1.2         pinyin: 1.2          NUM nummod\n",
      "米         pinyin: mǐ          NUM mark:clf\n",
      "以下         pinyin: yǐxià          PART case\n",
      "儿童         pinyin: értóng          NOUN dep\n",
      "，         pinyin: ，          PUNCT punct\n",
      "以及         pinyin: yǐjí          CCONJ cc\n",
      "每         pinyin: měi          DET det\n",
      "周二         pinyin: zhōuèr          NOUN compound:nn\n",
      "统一         pinyin: tǒngyī          ADV advmod\n",
      "预约         pinyin: yùyuē          VERB acl\n",
      "的         pinyin: de          PART mark\n",
      "中小         pinyin: zhōngxiǎo          ADJ amod\n",
      "学生         pinyin: xuéshēng          NOUN dep\n",
      "免费         pinyin: miǎnfèi          ADJ amod\n",
      "的         pinyin: de          PART case\n",
      "基础         pinyin: jīchǔ          NOUN nmod:prep\n",
      "上         pinyin: shàng          PART case\n",
      "，         pinyin: ，          PUNCT punct\n",
      "试行         pinyin: shìxíng          VERB ccomp\n",
      "所有         pinyin: suǒyǒu          DET det\n",
      "开放日         pinyin: kāifàngrì          NOUN dobj\n",
      "对         pinyin: dùi          ADP case\n",
      "未成年人         pinyin: wèichéngniánrén          NOUN nmod:prep\n",
      "免费         pinyin: miǎnfèi          ADV advmod\n",
      "开放         pinyin: kāifàng          VERB ccomp\n",
      "。         pinyin: 。          PUNCT punct\n"
     ]
    }
   ],
   "source": [
    "for token in doc:\n",
    "    print(token, \"       \", 'pinyin:', pinyin.get(token.text),\"        \",token.pos_, token.dep_)\n"
   ]
  },
  {
   "cell_type": "markdown",
   "metadata": {},
   "source": [
    "All output"
   ]
  },
  {
   "cell_type": "code",
   "execution_count": 9,
   "metadata": {},
   "outputs": [
    {
     "name": "stdout",
     "output_type": "stream",
     "text": [
      "新京         pinyin: xīnjīng          PROPN nsubj\n",
      "报讯         pinyin: bàoxùn          VERB ROOT\n",
      "（         pinyin: （          PUNCT punct\n",
      "记者         pinyin: jìzhě          NOUN dep\n",
      "张畅         pinyin: zhāngchàng          PROPN dep\n",
      "）         pinyin: ）          PUNCT punct\n",
      "11月         pinyin: 11yuè          NOUN compound:nn\n",
      "29日         pinyin: 29rì          NOUN nmod:tmod\n",
      "，         pinyin: ，          PUNCT punct\n",
      "故宫         pinyin: gùgōng          PROPN nsubj\n",
      "发布         pinyin: fābù          VERB ROOT\n",
      "消息         pinyin: xiāoxī          NOUN nsubj\n",
      "称         pinyin: chēng          VERB conj\n",
      "，         pinyin: ，          PUNCT punct\n",
      "为         pinyin: wèi          ADP case\n",
      "进一步         pinyin: jìnyībù          ADV advmod\n",
      "贯彻         pinyin: guànchè          VERB ccomp\n",
      "落实         pinyin: luòshí          VERB compound:vc\n",
      "《         pinyin: 《          PUNCT punct\n",
      "中华         pinyin: zhōnghuá          PROPN compound:nn\n",
      "人民         pinyin: rénmín          NOUN compound:nn\n",
      "共和国         pinyin: gònghéguó          NOUN nmod:assmod\n",
      "未成年人         pinyin: wèichéngniánrén          NOUN compound:nn\n",
      "保护法         pinyin: bǎohùfǎ          NOUN dobj\n",
      "》         pinyin: 》          PUNCT punct\n",
      "，         pinyin: ，          PUNCT punct\n",
      "故宫         pinyin: gùgōng          PROPN compound:nn\n",
      "博物院         pinyin: bówùyuàn          NOUN nsubj\n",
      "决定         pinyin: juédìng          VERB conj\n",
      "在         pinyin: zài          ADP case\n",
      "原有         pinyin: yuányǒu          ADJ amod\n",
      "6         pinyin: 6          NUM dep\n",
      "岁         pinyin: sùi          NUM mark:clf\n",
      "以下         pinyin: yǐxià          PART case\n",
      "或         pinyin: huò          CCONJ cc\n",
      "身高         pinyin: shēngāo          NOUN compound:nn\n",
      "1.2         pinyin: 1.2          NUM nummod\n",
      "米         pinyin: mǐ          NUM mark:clf\n",
      "以下         pinyin: yǐxià          PART case\n",
      "儿童         pinyin: értóng          NOUN dep\n",
      "，         pinyin: ，          PUNCT punct\n",
      "以及         pinyin: yǐjí          CCONJ cc\n",
      "每         pinyin: měi          DET det\n",
      "周二         pinyin: zhōuèr          NOUN compound:nn\n",
      "统一         pinyin: tǒngyī          ADV advmod\n",
      "预约         pinyin: yùyuē          VERB acl\n",
      "的         pinyin: de          PART mark\n",
      "中小         pinyin: zhōngxiǎo          ADJ amod\n",
      "学生         pinyin: xuéshēng          NOUN dep\n",
      "免费         pinyin: miǎnfèi          ADJ amod\n",
      "的         pinyin: de          PART case\n",
      "基础         pinyin: jīchǔ          NOUN nmod:prep\n",
      "上         pinyin: shàng          PART case\n",
      "，         pinyin: ，          PUNCT punct\n",
      "试行         pinyin: shìxíng          VERB ccomp\n",
      "所有         pinyin: suǒyǒu          DET det\n",
      "开放日         pinyin: kāifàngrì          NOUN dobj\n",
      "对         pinyin: dùi          ADP case\n",
      "未成年人         pinyin: wèichéngniánrén          NOUN nmod:prep\n",
      "免费         pinyin: miǎnfèi          ADV advmod\n",
      "开放         pinyin: kāifàng          VERB ccomp\n",
      "。         pinyin: 。          PUNCT punct\n",
      "NER output\n",
      "新京 GPE\n",
      "张畅 PERSON\n",
      "11月29日 DATE\n",
      "故宫 ORG\n",
      "中华人民共和国未成年人保护法 LAW\n",
      "故宫博物院 ORG\n",
      "6岁以下 DATE\n",
      "1.2米 QUANTITY\n",
      "周二 DATE\n"
     ]
    },
    {
     "data": {
      "text/html": [
       "<span class=\"tex2jax_ignore\"><div class=\"entities\" style=\"line-height: 2.5; direction: ltr\">\n",
       "<mark class=\"entity\" style=\"background: #feca74; padding: 0.45em 0.6em; margin: 0 0.25em; line-height: 1; border-radius: 0.35em;\">\n",
       "    新京\n",
       "    <span style=\"font-size: 0.8em; font-weight: bold; line-height: 1; border-radius: 0.35em; vertical-align: middle; margin-left: 0.5rem\">GPE</span>\n",
       "</mark>\n",
       "报讯（记者 \n",
       "<mark class=\"entity\" style=\"background: #aa9cfc; padding: 0.45em 0.6em; margin: 0 0.25em; line-height: 1; border-radius: 0.35em;\">\n",
       "    张畅\n",
       "    <span style=\"font-size: 0.8em; font-weight: bold; line-height: 1; border-radius: 0.35em; vertical-align: middle; margin-left: 0.5rem\">PERSON</span>\n",
       "</mark>\n",
       "）\n",
       "<mark class=\"entity\" style=\"background: #bfe1d9; padding: 0.45em 0.6em; margin: 0 0.25em; line-height: 1; border-radius: 0.35em;\">\n",
       "    11月29日\n",
       "    <span style=\"font-size: 0.8em; font-weight: bold; line-height: 1; border-radius: 0.35em; vertical-align: middle; margin-left: 0.5rem\">DATE</span>\n",
       "</mark>\n",
       "，\n",
       "<mark class=\"entity\" style=\"background: #7aecec; padding: 0.45em 0.6em; margin: 0 0.25em; line-height: 1; border-radius: 0.35em;\">\n",
       "    故宫\n",
       "    <span style=\"font-size: 0.8em; font-weight: bold; line-height: 1; border-radius: 0.35em; vertical-align: middle; margin-left: 0.5rem\">ORG</span>\n",
       "</mark>\n",
       "发布消息称，为进一步贯彻落实《\n",
       "<mark class=\"entity\" style=\"background: #ff8197; padding: 0.45em 0.6em; margin: 0 0.25em; line-height: 1; border-radius: 0.35em;\">\n",
       "    中华人民共和国未成年人保护法\n",
       "    <span style=\"font-size: 0.8em; font-weight: bold; line-height: 1; border-radius: 0.35em; vertical-align: middle; margin-left: 0.5rem\">LAW</span>\n",
       "</mark>\n",
       "》，\n",
       "<mark class=\"entity\" style=\"background: #7aecec; padding: 0.45em 0.6em; margin: 0 0.25em; line-height: 1; border-radius: 0.35em;\">\n",
       "    故宫博物院\n",
       "    <span style=\"font-size: 0.8em; font-weight: bold; line-height: 1; border-radius: 0.35em; vertical-align: middle; margin-left: 0.5rem\">ORG</span>\n",
       "</mark>\n",
       "决定在原有\n",
       "<mark class=\"entity\" style=\"background: #bfe1d9; padding: 0.45em 0.6em; margin: 0 0.25em; line-height: 1; border-radius: 0.35em;\">\n",
       "    6岁以下\n",
       "    <span style=\"font-size: 0.8em; font-weight: bold; line-height: 1; border-radius: 0.35em; vertical-align: middle; margin-left: 0.5rem\">DATE</span>\n",
       "</mark>\n",
       "或身高\n",
       "<mark class=\"entity\" style=\"background: #e4e7d2; padding: 0.45em 0.6em; margin: 0 0.25em; line-height: 1; border-radius: 0.35em;\">\n",
       "    1.2米\n",
       "    <span style=\"font-size: 0.8em; font-weight: bold; line-height: 1; border-radius: 0.35em; vertical-align: middle; margin-left: 0.5rem\">QUANTITY</span>\n",
       "</mark>\n",
       "以下儿童，以及每\n",
       "<mark class=\"entity\" style=\"background: #bfe1d9; padding: 0.45em 0.6em; margin: 0 0.25em; line-height: 1; border-radius: 0.35em;\">\n",
       "    周二\n",
       "    <span style=\"font-size: 0.8em; font-weight: bold; line-height: 1; border-radius: 0.35em; vertical-align: middle; margin-left: 0.5rem\">DATE</span>\n",
       "</mark>\n",
       "统一预约的中小学生免费的基础上，试行所有开放日对未成年人免费开放。</div></span>"
      ],
      "text/plain": [
       "<IPython.core.display.HTML object>"
      ]
     },
     "metadata": {},
     "output_type": "display_data"
    },
    {
     "data": {
      "text/plain": [
       "'Beijing News (Reporter Zhang Chang) On November 29, the Forbidden City announced that in order to further implement the \"Law of the People\\'s Republic of China on the Protection of Minors\", the Palace Museum decided that children under the age of 6 or under 1.2 meters in height, and On the basis of free for primary and secondary school students who make a unified reservation every Tuesday, all open days are free for minors.'"
      ]
     },
     "execution_count": 9,
     "metadata": {},
     "output_type": "execute_result"
    }
   ],
   "source": [
    "for token in doc:\n",
    "    print(token, \"       \", 'pinyin:', pinyin.get(token.text),\"        \",token.pos_, token.dep_)\n",
    "print(\"NER output\")\n",
    "for ent in doc.ents:\n",
    "    print(ent.text, ent.label_)\n",
    "displacy.render(doc,style=\"ent\",jupyter=True)\n",
    "translated"
   ]
  },
  {
   "cell_type": "code",
   "execution_count": 10,
   "metadata": {},
   "outputs": [
    {
     "data": {
      "text/html": [
       "trans<html><head><title>Dummy</title></head><body><h1>Beijing News (Reporter Zhang Chang) On November 29, the Forbidden City announced that in order to further implement the \"Law of the People's Republic of China on the Protection of Minors\", the Palace Museum decided that children under the age of 6 or under 1.2 meters in height, and On the basis of free for primary and secondary school students who make a unified reservation every Tuesday, all open days are free for minors.</h1></body></html>"
      ],
      "text/plain": [
       "<IPython.core.display.HTML object>"
      ]
     },
     "metadata": {},
     "output_type": "display_data"
    }
   ],
   "source": [
    "from IPython.core.display import display, HTML\n",
    "\n",
    "example = '<html><head><title>Dummy</title></head><body><h1>'+translated+'</h1></body></html>'\n",
    "\n",
    "\n",
    "\n",
    "display(HTML(\"trans\" + example))\n"
   ]
  },
  {
   "cell_type": "code",
   "execution_count": 11,
   "metadata": {},
   "outputs": [
    {
     "data": {
      "text/html": [
       "<span class=\"tex2jax_ignore\"><div class=\"entities\" style=\"line-height: 2.5; direction: ltr\">\n",
       "<mark class=\"entity\" style=\"background: #feca74; padding: 0.45em 0.6em; margin: 0 0.25em; line-height: 1; border-radius: 0.35em;\">\n",
       "    新京\n",
       "    <span style=\"font-size: 0.8em; font-weight: bold; line-height: 1; border-radius: 0.35em; vertical-align: middle; margin-left: 0.5rem\">GPE</span>\n",
       "</mark>\n",
       "报讯（记者 \n",
       "<mark class=\"entity\" style=\"background: #aa9cfc; padding: 0.45em 0.6em; margin: 0 0.25em; line-height: 1; border-radius: 0.35em;\">\n",
       "    张畅\n",
       "    <span style=\"font-size: 0.8em; font-weight: bold; line-height: 1; border-radius: 0.35em; vertical-align: middle; margin-left: 0.5rem\">PERSON</span>\n",
       "</mark>\n",
       "）\n",
       "<mark class=\"entity\" style=\"background: #bfe1d9; padding: 0.45em 0.6em; margin: 0 0.25em; line-height: 1; border-radius: 0.35em;\">\n",
       "    11月29日\n",
       "    <span style=\"font-size: 0.8em; font-weight: bold; line-height: 1; border-radius: 0.35em; vertical-align: middle; margin-left: 0.5rem\">DATE</span>\n",
       "</mark>\n",
       "，\n",
       "<mark class=\"entity\" style=\"background: #7aecec; padding: 0.45em 0.6em; margin: 0 0.25em; line-height: 1; border-radius: 0.35em;\">\n",
       "    故宫\n",
       "    <span style=\"font-size: 0.8em; font-weight: bold; line-height: 1; border-radius: 0.35em; vertical-align: middle; margin-left: 0.5rem\">ORG</span>\n",
       "</mark>\n",
       "发布消息称，为进一步贯彻落实《\n",
       "<mark class=\"entity\" style=\"background: #ff8197; padding: 0.45em 0.6em; margin: 0 0.25em; line-height: 1; border-radius: 0.35em;\">\n",
       "    中华人民共和国未成年人保护法\n",
       "    <span style=\"font-size: 0.8em; font-weight: bold; line-height: 1; border-radius: 0.35em; vertical-align: middle; margin-left: 0.5rem\">LAW</span>\n",
       "</mark>\n",
       "》，\n",
       "<mark class=\"entity\" style=\"background: #7aecec; padding: 0.45em 0.6em; margin: 0 0.25em; line-height: 1; border-radius: 0.35em;\">\n",
       "    故宫博物院\n",
       "    <span style=\"font-size: 0.8em; font-weight: bold; line-height: 1; border-radius: 0.35em; vertical-align: middle; margin-left: 0.5rem\">ORG</span>\n",
       "</mark>\n",
       "决定在原有\n",
       "<mark class=\"entity\" style=\"background: #bfe1d9; padding: 0.45em 0.6em; margin: 0 0.25em; line-height: 1; border-radius: 0.35em;\">\n",
       "    6岁以下\n",
       "    <span style=\"font-size: 0.8em; font-weight: bold; line-height: 1; border-radius: 0.35em; vertical-align: middle; margin-left: 0.5rem\">DATE</span>\n",
       "</mark>\n",
       "或身高\n",
       "<mark class=\"entity\" style=\"background: #e4e7d2; padding: 0.45em 0.6em; margin: 0 0.25em; line-height: 1; border-radius: 0.35em;\">\n",
       "    1.2米\n",
       "    <span style=\"font-size: 0.8em; font-weight: bold; line-height: 1; border-radius: 0.35em; vertical-align: middle; margin-left: 0.5rem\">QUANTITY</span>\n",
       "</mark>\n",
       "以下儿童，以及每\n",
       "<mark class=\"entity\" style=\"background: #bfe1d9; padding: 0.45em 0.6em; margin: 0 0.25em; line-height: 1; border-radius: 0.35em;\">\n",
       "    周二\n",
       "    <span style=\"font-size: 0.8em; font-weight: bold; line-height: 1; border-radius: 0.35em; vertical-align: middle; margin-left: 0.5rem\">DATE</span>\n",
       "</mark>\n",
       "统一预约的中小学生免费的基础上，试行所有开放日对未成年人免费开放。</div></span>"
      ],
      "text/plain": [
       "<IPython.core.display.HTML object>"
      ]
     },
     "metadata": {},
     "output_type": "display_data"
    }
   ],
   "source": [
    "ner = displacy.render(doc,style=\"ent\",jupyter=True)"
   ]
  },
  {
   "cell_type": "code",
   "execution_count": 12,
   "metadata": {},
   "outputs": [
    {
     "name": "stdout",
     "output_type": "stream",
     "text": [
      "None\n"
     ]
    }
   ],
   "source": [
    "print(ner)"
   ]
  },
  {
   "cell_type": "code",
   "execution_count": 13,
   "metadata": {},
   "outputs": [
    {
     "data": {
      "text/plain": [
       "NoneType"
      ]
     },
     "execution_count": 13,
     "metadata": {},
     "output_type": "execute_result"
    }
   ],
   "source": [
    "type(ner)"
   ]
  }
 ],
 "metadata": {
  "kernelspec": {
   "display_name": "Python 3",
   "language": "python",
   "name": "python3"
  },
  "language_info": {
   "codemirror_mode": {
    "name": "ipython",
    "version": 3
   },
   "file_extension": ".py",
   "mimetype": "text/x-python",
   "name": "python",
   "nbconvert_exporter": "python",
   "pygments_lexer": "ipython3",
   "version": "3.6.5"
  }
 },
 "nbformat": 4,
 "nbformat_minor": 2
}
